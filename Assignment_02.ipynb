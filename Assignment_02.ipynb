{
 "cells": [
  {
   "cell_type": "markdown",
   "id": "9c625eff-e7e5-4921-804d-a27e8e12aa98",
   "metadata": {},
   "source": [
    "Q1) Write a program to accept percentage from the user and display the grade according to the following.\n",
    "\n",
    "   Marks                 Grade\n",
    "#  >90                    A\n",
    "#  >80 and <=90           B\n",
    "#  >=60 and <=80          C\n",
    "#  below 60               D \n"
   ]
  },
  {
   "cell_type": "code",
   "execution_count": 1,
   "id": "0d34b146-aea9-4bc3-88c3-7384fd872d3b",
   "metadata": {},
   "outputs": [
    {
     "name": "stdin",
     "output_type": "stream",
     "text": [
      "enter the marks 45\n"
     ]
    },
    {
     "name": "stdout",
     "output_type": "stream",
     "text": [
      "Grade D\n"
     ]
    }
   ],
   "source": [
    "marks = int(input(\"enter the marks\"))\n",
    "if marks >90:\n",
    "    print(\"Grade A\")\n",
    "elif marks >80 and marks <=90:\n",
    "    print(\"Grade B\")\n",
    "elif marks >=60 and marks <=80:\n",
    "    print(\"Grade C\")\n",
    "else:\n",
    "    print(\"Grade D\")"
   ]
  },
  {
   "cell_type": "markdown",
   "id": "219da406-4a53-4a58-9bca-d4ef3fc351da",
   "metadata": {},
   "source": [
    "Q2) Write a program to accept the cost price of a bike and display the road tax to be paid according to the \n",
    "following criteria: "
   ]
  },
  {
   "cell_type": "code",
   "execution_count": 2,
   "id": "79c65613-04fc-479b-903f-1012b7dadf86",
   "metadata": {},
   "outputs": [
    {
     "name": "stdin",
     "output_type": "stream",
     "text": [
      "enter the price 5000\n"
     ]
    },
    {
     "name": "stdout",
     "output_type": "stream",
     "text": [
      "Road tax is 5% \n"
     ]
    }
   ],
   "source": [
    "cost = int(input(\"enter the price\"))\n",
    "if cost >100000:\n",
    "    print(\"Road Tax is 15% \")\n",
    "elif cost >50000 and cost <= 100000:\n",
    "    print(\"Road Tax is 10% \")\n",
    "else:\n",
    "    print(\"Road tax is 5% \")"
   ]
  },
  {
   "cell_type": "markdown",
   "id": "404be074-2a70-47d2-a956-b210e6bf552e",
   "metadata": {},
   "source": [
    "Q3)  Accept any city from the user and display monuments of that city?"
   ]
  },
  {
   "cell_type": "code",
   "execution_count": 3,
   "id": "c429c886-eab6-4e5b-844e-f7b3fa443c4e",
   "metadata": {},
   "outputs": [
    {
     "name": "stdin",
     "output_type": "stream",
     "text": [
      "enter the city name Delhi\n"
     ]
    },
    {
     "name": "stdout",
     "output_type": "stream",
     "text": [
      "Red Fort\n"
     ]
    }
   ],
   "source": [
    "city = input(\"enter the city name\")\n",
    "if city == \"Delhi\":\n",
    "    print(\"Red Fort\")\n",
    "elif city == \"Agra\":\n",
    "    print(\"Taj Mahal\")\n",
    "elif city == \"Jaipur\":\n",
    "    print(\"Jal Mahal\")\n",
    "else:\n",
    "    print(\"not valid city name\")"
   ]
  },
  {
   "cell_type": "markdown",
   "id": "5fad9a57-91d1-4715-ba5f-28b69fa4b621",
   "metadata": {},
   "source": [
    "Q4) Check how many times a given number can be divided by 3 before it is less than or equal to 10. "
   ]
  },
  {
   "cell_type": "code",
   "execution_count": 4,
   "id": "ef67343f-9150-48b0-b766-acadac991a79",
   "metadata": {},
   "outputs": [
    {
     "name": "stdin",
     "output_type": "stream",
     "text": [
      "enter the number 10\n"
     ]
    },
    {
     "name": "stdout",
     "output_type": "stream",
     "text": [
      "No\n"
     ]
    }
   ],
   "source": [
    "n=int(input(\"enter the number\"))\n",
    "if n %3 >=10:\n",
    "  print(\"Yes\")\n",
    "else:\n",
    "  print(\"No\")"
   ]
  },
  {
   "cell_type": "markdown",
   "id": "5234cb29-1dbf-49dd-a39a-fca1d540d43f",
   "metadata": {},
   "source": [
    "Q5) Why and When to Use while Loop in Python give a detailed description with example?"
   ]
  },
  {
   "cell_type": "markdown",
   "id": "d30ce425-9956-4ac6-892e-1f1162e9d48e",
   "metadata": {},
   "source": [
    "Python has two primitive loop commands:\n",
    "1)While loops\n",
    "2)for loops\n"
   ]
  },
  {
   "cell_type": "code",
   "execution_count": 5,
   "id": "452673e4-7440-4142-ab02-260d604a24cd",
   "metadata": {},
   "outputs": [
    {
     "name": "stdout",
     "output_type": "stream",
     "text": [
      "1\n",
      "2\n",
      "3\n",
      "4\n",
      "5\n"
     ]
    }
   ],
   "source": [
    "# Example\n",
    "i = 1\n",
    "while i < 6:\n",
    "  print(i)\n",
    "  i += 1"
   ]
  },
  {
   "cell_type": "markdown",
   "id": "74b75e87-4c38-4040-9ac1-4dbaa74f78db",
   "metadata": {},
   "source": [
    "Q6) Use nested while loop to print 3 different pattern."
   ]
  },
  {
   "cell_type": "code",
   "execution_count": 6,
   "id": "2d80be78-b91a-49c4-ae9c-82a002fc9966",
   "metadata": {},
   "outputs": [
    {
     "name": "stdout",
     "output_type": "stream",
     "text": [
      "1 \n",
      "1 2 \n",
      "1 2 3 \n",
      "1 2 3 4 \n",
      "1 2 3 4 5 \n"
     ]
    }
   ],
   "source": [
    "i=1\n",
    "while i<=5:\n",
    "    j=1\n",
    "    while j<=i:\n",
    "        print(j,end=\" \")\n",
    "        j=j+1\n",
    "    print(\"\")\n",
    "    i=i+1"
   ]
  },
  {
   "cell_type": "code",
   "execution_count": 6,
   "id": "2cb1a7b2-eef2-4769-812a-707862c39a91",
   "metadata": {},
   "outputs": [
    {
     "name": "stdout",
     "output_type": "stream",
     "text": [
      "1\n",
      "12\n",
      "123\n",
      "1234\n",
      "12345\n"
     ]
    }
   ],
   "source": [
    "i=1\n",
    "while i<=5:\n",
    "    j=1\n",
    "    while j<=i:\n",
    "        print(j,end=\"\")\n",
    "        j=j+1\n",
    "    print(\"\")\n",
    "    i=i+1"
   ]
  },
  {
   "cell_type": "code",
   "execution_count": 4,
   "id": "ed2b8ed9-cb93-4be0-b26f-d71b4972a8ab",
   "metadata": {},
   "outputs": [
    {
     "name": "stdout",
     "output_type": "stream",
     "text": [
      "1 \n",
      "2 2 \n",
      "3 3 3 \n",
      "4 4 4 4 \n",
      "5 5 5 5 5 \n"
     ]
    }
   ],
   "source": [
    "i=1\n",
    "while i<=5:\n",
    "    j=1\n",
    "    while j<=i:\n",
    "        print(i,end=\" \")\n",
    "        j=j+1\n",
    "    print(\"\")\n",
    "    i=i+1"
   ]
  },
  {
   "cell_type": "markdown",
   "id": "d97c6eb5-112b-449e-96c4-bfb7d5468477",
   "metadata": {},
   "source": [
    "Q7) Reverse a while loop to display numbers from 10 to 1.?"
   ]
  },
  {
   "cell_type": "code",
   "execution_count": 7,
   "id": "edb1bcbe-910f-4a5b-af52-243c3e5dca56",
   "metadata": {},
   "outputs": [
    {
     "name": "stdout",
     "output_type": "stream",
     "text": [
      "10\n",
      "9\n",
      "8\n",
      "7\n",
      "6\n",
      "5\n",
      "4\n",
      "3\n",
      "2\n",
      "1\n"
     ]
    }
   ],
   "source": [
    "i = 10\n",
    "while i > 0:\n",
    "    print(i)\n",
    "    i = i - 1"
   ]
  },
  {
   "cell_type": "markdown",
   "id": "c94dd98a-faca-462d-a6a8-b11c4eff6270",
   "metadata": {},
   "source": [
    "Q8) Reverse a while loop to display numbers from 10 to 1 ?"
   ]
  },
  {
   "cell_type": "code",
   "execution_count": 8,
   "id": "d28b69bf-15c6-4933-b4d0-b3edd35caed3",
   "metadata": {},
   "outputs": [
    {
     "name": "stdout",
     "output_type": "stream",
     "text": [
      "10\n",
      "9\n",
      "8\n",
      "7\n",
      "6\n",
      "5\n",
      "4\n",
      "3\n",
      "2\n",
      "1\n"
     ]
    }
   ],
   "source": [
    "i = 10\n",
    "while i > 0:\n",
    "    print(i)\n",
    "    i = i - 1"
   ]
  }
 ],
 "metadata": {
  "kernelspec": {
   "display_name": "Python 3 (ipykernel)",
   "language": "python",
   "name": "python3"
  },
  "language_info": {
   "codemirror_mode": {
    "name": "ipython",
    "version": 3
   },
   "file_extension": ".py",
   "mimetype": "text/x-python",
   "name": "python",
   "nbconvert_exporter": "python",
   "pygments_lexer": "ipython3",
   "version": "3.10.8"
  }
 },
 "nbformat": 4,
 "nbformat_minor": 5
}
